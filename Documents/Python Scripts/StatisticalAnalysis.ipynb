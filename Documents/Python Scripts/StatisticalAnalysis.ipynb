{
 "cells": [
  {
   "cell_type": "code",
   "execution_count": 3,
   "id": "1caf5af7-96c7-4220-a026-c39ba9e58fd9",
   "metadata": {
    "tags": []
   },
   "outputs": [],
   "source": [
    "import numpy\n",
    "import pandas \n",
    "import matplotlib.pyplot as plt\n",
    "from ipyfilechooser import FileChooser\n",
    "%matplotlib widget\n",
    "plt.rcParams ['date.converter'] = 'concise'"
   ]
  },
  {
   "cell_type": "code",
   "execution_count": 5,
   "id": "7cf9c84a-2ed6-43a0-9546-9f1772b516a6",
   "metadata": {},
   "outputs": [
    {
     "data": {
      "application/vnd.jupyter.widget-view+json": {
       "model_id": "d7bf43f3a8914e6bb9fc6a8fdde4ef2d",
       "version_major": 2,
       "version_minor": 0
      },
      "text/plain": [
       "FileChooser(path='C:\\Users\\s.wagner\\Documents\\Python Scripts', filename='', title='', show_hidden=False, selec…"
      ]
     },
     "metadata": {},
     "output_type": "display_data"
    }
   ],
   "source": [
    "fc = FileChooser()\n",
    "display(fc)"
   ]
  },
  {
   "cell_type": "code",
   "execution_count": 9,
   "id": "35cced12-58b7-4af4-8840-cce6cf585b2c",
   "metadata": {
    "tags": []
   },
   "outputs": [],
   "source": [
    "if fc.selected_filename == None or not fc.selected_filename.endswith(\".html\"):\n",
    "    raise Exception(\"Select a .html file. To Upload a File use the Jupyter File Browser (Ctrl+Shift+f)\")"
   ]
  },
  {
   "cell_type": "code",
   "execution_count": null,
   "id": "df313004-63b6-4c9b-b11b-680e63ef9b04",
   "metadata": {},
   "outputs": [],
   "source": []
  }
 ],
 "metadata": {
  "kernelspec": {
   "display_name": "Python 3 (ipykernel)",
   "language": "python",
   "name": "python3"
  },
  "language_info": {
   "codemirror_mode": {
    "name": "ipython",
    "version": 3
   },
   "file_extension": ".py",
   "mimetype": "text/x-python",
   "name": "python",
   "nbconvert_exporter": "python",
   "pygments_lexer": "ipython3",
   "version": "3.11.4"
  }
 },
 "nbformat": 4,
 "nbformat_minor": 5
}
