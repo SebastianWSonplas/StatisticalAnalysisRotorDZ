{
 "cells": [
  {
   "cell_type": "code",
   "execution_count": 1,
   "id": "1caf5af7-96c7-4220-a026-c39ba9e58fd9",
   "metadata": {
    "tags": []
   },
   "outputs": [],
   "source": [
    "import numpy\n",
    "import pandas \n",
    "import matplotlib.pyplot as plt\n",
    "from ipyfilechooser import FileChooser\n",
    "from tkinter import *\n",
    "%matplotlib widget\n",
    "plt.rcParams ['date.converter'] = 'concise'"
   ]
  },
  {
   "cell_type": "code",
   "execution_count": 5,
   "id": "df313004-63b6-4c9b-b11b-680e63ef9b04",
   "metadata": {},
   "outputs": [],
   "source": [
    "win= Tk()\n",
    "win.geometry(\"750x250\")\n",
    "btn=Button(win, text=\"Press Enter\")\n",
    "btn.pack(ipadx=10)S\n",
    "win.mainloop()\n"
   ]
  },
  {
   "cell_type": "code",
   "execution_count": null,
   "id": "e3dd75e1-6265-4af9-9190-9629bfb1225b",
   "metadata": {},
   "outputs": [],
   "source": []
  }
 ],
 "metadata": {
  "kernelspec": {
   "display_name": "Python 3 (ipykernel)",
   "language": "python",
   "name": "python3"
  },
  "language_info": {
   "codemirror_mode": {
    "name": "ipython",
    "version": 3
   },
   "file_extension": ".py",
   "mimetype": "text/x-python",
   "name": "python",
   "nbconvert_exporter": "python",
   "pygments_lexer": "ipython3",
   "version": "3.11.4"
  }
 },
 "nbformat": 4,
 "nbformat_minor": 5
}
